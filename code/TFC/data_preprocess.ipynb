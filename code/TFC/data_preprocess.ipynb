{
 "cells": [
  {
   "cell_type": "code",
   "execution_count": 1,
   "metadata": {},
   "outputs": [],
   "source": [
    "import torch\n",
    "import os\n",
    "from data import load_data"
   ]
  },
  {
   "cell_type": "code",
   "execution_count": 14,
   "metadata": {},
   "outputs": [],
   "source": [
    "data_path = '/Users/xiaoyudembp/cmsc/dataset'\n",
    "save_path = '../../datasets'"
   ]
  },
  {
   "cell_type": "code",
   "execution_count": null,
   "metadata": {},
   "outputs": [
    {
     "name": "stderr",
     "output_type": "stream",
     "text": [
      "=> Loading chapman: 100%|██████████| 9713/9713 [00:08<00:00, 1143.77it/s]\n",
      "=> Loading ptb: 100%|██████████| 194/194 [00:00<00:00, 334.18it/s]\n",
      "=> Loading ptbxl: 100%|██████████| 14090/14090 [00:13<00:00, 1066.77it/s]\n"
     ]
    }
   ],
   "source": [
    "for data in ['chapman', 'ptb', 'ptbxl']:\n",
    "    load_path = os.path.join(data_path, data)\n",
    "    train_data, val_data, test_data, train_label, val_label, test_label = load_data(data_path, data, 300)\n",
    "    train = {\n",
    "        'samples': train_data,\n",
    "        'labels': train_label\n",
    "    }\n",
    "    val = {\n",
    "        'samples': val_data,\n",
    "        'labels': val_label\n",
    "    }\n",
    "    test = {\n",
    "        'samples': test_data,\n",
    "        'labels': test_label\n",
    "    }\n",
    "    save_dir = os.path.join(save_path, data)\n",
    "    if not os.path.exists(save_dir):\n",
    "        os.makedirs(save_dir)\n",
    "    torch.save(train, os.path.join(save_dir, 'train.pt'))\n",
    "    torch.save(val, os.path.join(save_dir, 'val.pt'))\n",
    "    torch.save(test, os.path.join(save_dir, 'test.pt'))"
   ]
  },
  {
   "cell_type": "code",
   "execution_count": null,
   "metadata": {},
   "outputs": [],
   "source": []
  }
 ],
 "metadata": {
  "kernelspec": {
   "display_name": "pytorch",
   "language": "python",
   "name": "python3"
  },
  "language_info": {
   "codemirror_mode": {
    "name": "ipython",
    "version": 3
   },
   "file_extension": ".py",
   "mimetype": "text/x-python",
   "name": "python",
   "nbconvert_exporter": "python",
   "pygments_lexer": "ipython3",
   "version": "3.13.1"
  }
 },
 "nbformat": 4,
 "nbformat_minor": 2
}
