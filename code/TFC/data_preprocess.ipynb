{
 "cells": [
  {
   "cell_type": "code",
   "execution_count": 1,
   "metadata": {},
   "outputs": [],
   "source": [
    "import torch\n",
    "import os\n",
    "from data import load_data"
   ]
  },
  {
   "cell_type": "code",
   "execution_count": 14,
   "metadata": {},
   "outputs": [],
   "source": [
    "data_path = '/root/MCP/dataset'\n",
    "save_path = '../../datasets'"
   ]
  },
  {
   "cell_type": "code",
   "execution_count": null,
   "metadata": {},
   "outputs": [],
   "source": [
    "for data in ['chapman', 'ptb', 'ptbxl']:\n",
    "    train_data, val_data, test_data, train_label, val_label, test_label = load_data(data_path, data, 300)\n",
    "    train = {\n",
    "        'samples': torch.from_numpy(train_data),\n",
    "        'labels': torch.from_numpy(train_label[:, 0])\n",
    "    }\n",
    "    val = {\n",
    "        'samples': torch.from_numpy(val_data),\n",
    "        'labels': torch.from_numpy(val_label[:, 0])\n",
    "    }\n",
    "    test = {\n",
    "        'samples': torch.from_numpy(test_data),\n",
    "        'labels': torch.from_numpy(test_label[:, 0])\n",
    "    }\n",
    "    save_dir = os.path.join(save_path, data)\n",
    "    if not os.path.exists(save_dir):\n",
    "        os.makedirs(save_dir)\n",
    "    torch.save(train, os.path.join(save_dir, 'train.pt'), pickle_protocol=4)\n",
    "    torch.save(val, os.path.join(save_dir, 'val.pt'), pickle_protocol=4)\n",
    "    torch.save(test, os.path.join(save_dir, 'test.pt'), pickle_protocol=4)\n",
    "    \n",
    "    save_dir10 = os.path.join(save_path, data + '10%')\n",
    "    if not os.path.exists(save_dir10):\n",
    "        os.makedirs(save_dir10)\n",
    "    train_data10 = train_data[:int(train_data.shape[0] * 0.1)]\n",
    "    train_label10 = train_label[:int(train_label.shape[0] * 0.1)]\n",
    "    train10 = {\n",
    "        'samples': torch.from_numpy(train_data10),\n",
    "        'labels': torch.from_numpy(train_label10[:, 0])\n",
    "    }\n",
    "    torch.save(train10, os.path.join(save_dir10, 'train.pt'), pickle_protocol=4)\n",
    "    torch.save(val, os.path.join(save_dir10, 'val.pt'), pickle_protocol=4)\n",
    "    torch.save(test, os.path.join(save_dir10, 'test.pt'), pickle_protocol=4)\n",
    "    \n",
    "    save_dir1 = os.path.join(save_path, data + '1%')\n",
    "    if not os.path.exists(save_dir1):\n",
    "        os.makedirs(save_dir1)\n",
    "    train_data1 = train_data[:int(train_data.shape[0] * 0.01)]\n",
    "    train_label1 = train_label[:int(train_label.shape[0] * 0.01)]\n",
    "    train1 = {\n",
    "        'samples': torch.from_numpy(train_data1),\n",
    "        'labels': torch.from_numpy(train_label1[:, 0])\n",
    "    }\n",
    "    torch.save(train1, os.path.join(save_dir1, 'train.pt'), pickle_protocol=4)\n",
    "    torch.save(val, os.path.join(save_dir1, 'val.pt'), pickle_protocol=4)\n",
    "    torch.save(test, os.path.join(save_dir1, 'test.pt'), pickle_protocol=4)"
   ]
  },
  {
   "cell_type": "code",
   "execution_count": null,
   "metadata": {},
   "outputs": [],
   "source": []
  },
  {
   "cell_type": "code",
   "execution_count": null,
   "metadata": {},
   "outputs": [],
   "source": []
  }
 ],
 "metadata": {
  "kernelspec": {
   "display_name": "pytorch",
   "language": "python",
   "name": "python3"
  },
  "language_info": {
   "codemirror_mode": {
    "name": "ipython",
    "version": 3
   },
   "file_extension": ".py",
   "mimetype": "text/x-python",
   "name": "python",
   "nbconvert_exporter": "python",
   "pygments_lexer": "ipython3",
   "version": "3.13.1"
  }
 },
 "nbformat": 4,
 "nbformat_minor": 2
}
